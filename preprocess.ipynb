{
 "cells": [
  {
   "cell_type": "code",
   "execution_count": 12,
   "id": "1bbc4978",
   "metadata": {},
   "outputs": [],
   "source": [
    "CAPTIONS_PATH = \"Flickr8k/captions.txt\""
   ]
  },
  {
   "cell_type": "code",
   "execution_count": 13,
   "id": "a5639cf8",
   "metadata": {},
   "outputs": [],
   "source": [
    "def caption_preprocessing():\n",
    "    items = dict()\n",
    "    with open(CAPTIONS_PATH, \"r\") as f:\n",
    "        raw_data = f.read()\n",
    "    f.close()\n",
    "    lines = raw_data.split(\"\\n\")\n",
    "    for line in lines[1:]:  # Skip the first line which is a header\n",
    "        if len(line) > 0:\n",
    "            img_path, caption = line.split(',', 1)\n",
    "            if img_path not in items:\n",
    "                items[img_path] = []\n",
    "            caption = caption.lower()\n",
    "            caption = caption.strip(\" .\")\n",
    "            # caption = '<START> ' + caption + ' <END>'\n",
    "            items[img_path].append(caption)\n",
    "    return items"
   ]
  },
  {
   "cell_type": "code",
   "execution_count": 14,
   "id": "5de78dfb",
   "metadata": {},
   "outputs": [],
   "source": [
    "items = caption_preprocessing()"
   ]
  },
  {
   "cell_type": "code",
   "execution_count": 2,
   "id": "d9f8772f",
   "metadata": {},
   "outputs": [],
   "source": [
    "all_captions = []\n",
    "for image in items:\n",
    "    for caption in items[image]:\n",
    "        all_captions.append(caption)"
   ]
  },
  {
   "cell_type": "code",
   "execution_count": 3,
   "id": "7c53e7b1",
   "metadata": {},
   "outputs": [],
   "source": [
    "word_freq = {}\n",
    "max_len = 18\n",
    "for caption in all_captions:\n",
    "    for word in caption.split(' '):\n",
    "        word_freq[word] = word_freq.get(word, 0) + 1\n",
    "min_freq = 3\n",
    "special_tokens = [\"<PAD>\", \"<START>\", \"<END>\", \"<UNK>\"]\n",
    "word_to_index = {token: idx for idx, token in enumerate(special_tokens)}\n",
    "index_to_word = {idx: token for idx, token in enumerate(special_tokens)}\n",
    "idx = 4\n",
    "for word, freq in word_freq.items():\n",
    "    if freq >= min_freq and word not in special_tokens:\n",
    "        word_to_index[word] = idx\n",
    "        index_to_word[idx] = word\n",
    "        idx += 1"
   ]
  },
  {
   "cell_type": "code",
   "execution_count": 17,
   "id": "e6a2fba9",
   "metadata": {},
   "outputs": [],
   "source": [
    "def make_sequence(items):\n",
    "    sequences = {}\n",
    "    for image, captions in items.items():\n",
    "        sequences[image] = []\n",
    "        for caption in captions:\n",
    "            sequence = [1]\n",
    "            for word in caption.split(' '):\n",
    "                if word not in word_to_index:\n",
    "                    word = \"<UNK>\"\n",
    "                sequence.append(word_to_index[word])\n",
    "            if len(sequence) >= max_len:\n",
    "                sequence = sequence[:max_len - 1]\n",
    "                sequence.append(2)\n",
    "            elif len(sequence) < max_len:\n",
    "                sequence.append(2)\n",
    "                while(len(sequence) < max_len):\n",
    "                    sequence.append(0)\n",
    "            sequences[image].append(sequence)\n",
    "    return sequences"
   ]
  },
  {
   "cell_type": "code",
   "execution_count": 18,
   "id": "4e3c42c5",
   "metadata": {},
   "outputs": [],
   "source": [
    "all_sequences = make_sequence(items)"
   ]
  },
  {
   "cell_type": "code",
   "execution_count": 19,
   "id": "08720d86",
   "metadata": {},
   "outputs": [
    {
     "name": "stdout",
     "output_type": "stream",
     "text": [
      "✅ GloVe embeddings already exist!\n"
     ]
    }
   ],
   "source": [
    "import os\n",
    "import urllib.request\n",
    "import zipfile\n",
    "import ssl\n",
    "\n",
    "ssl._create_default_https_context = ssl._create_unverified_context\n",
    "\n",
    "def download_glove_embeddings():\n",
    "    \"\"\"Download GloVe embeddings automatically\"\"\"\n",
    "    \n",
    "    embeddings_dir = 'embeddings'\n",
    "    if not os.path.exists(embeddings_dir):\n",
    "        os.makedirs(embeddings_dir)\n",
    "    \n",
    "    glove_file = os.path.join(embeddings_dir, 'glove.6B.300d.txt')\n",
    "    \n",
    "    if os.path.exists(glove_file):\n",
    "        print(\"✅ GloVe embeddings already exist!\")\n",
    "        return glove_file\n",
    "    \n",
    "    print(\"📥 Downloading GloVe embeddings...\")\n",
    "    \n",
    "    # Download zip file\n",
    "    zip_url = \"http://nlp.stanford.edu/data/glove.6B.zip\"\n",
    "    zip_path = \"glove.6B.zip\"\n",
    "    \n",
    "    try:\n",
    "        urllib.request.urlretrieve(zip_url, zip_path)\n",
    "        print(\"✅ Download completed!\")\n",
    "        \n",
    "        # Extract specific file\n",
    "        print(\"📂 Extracting embeddings...\")\n",
    "        with zipfile.ZipFile(zip_path, 'r') as zip_ref:\n",
    "            zip_ref.extract('glove.6B.300d.txt', embeddings_dir)\n",
    "        \n",
    "        # Clean up\n",
    "        os.remove(zip_path)\n",
    "        print(f\"🎉 GloVe embeddings ready: {glove_file}\")\n",
    "        \n",
    "        return glove_file\n",
    "        \n",
    "    except Exception as e:\n",
    "        print(f\"❌ Download failed: {e}\")\n",
    "        print(\"🔗 Manual download: http://nlp.stanford.edu/data/glove.6B.zip\")\n",
    "        return None\n",
    "\n",
    "# Usage\n",
    "glove_path = download_glove_embeddings()"
   ]
  },
  {
   "cell_type": "code",
   "execution_count": 20,
   "id": "1446fcbd",
   "metadata": {},
   "outputs": [
    {
     "name": "stdout",
     "output_type": "stream",
     "text": [
      "Found 400000 word vectors.\n"
     ]
    }
   ],
   "source": [
    "import numpy as np\n",
    "\n",
    "embeddings_index = {}\n",
    "file = open(glove_path, encoding=\"utf-8\")\n",
    "\n",
    "for line in file:\n",
    "  values = line.split()\n",
    "  word = values[0]\n",
    "  coefs = np.asarray(values[1:], dtype='float32')\n",
    "  embeddings_index[word] = coefs\n",
    "file.close()\n",
    "print('Found %s word vectors.' % len(embeddings_index))"
   ]
  },
  {
   "cell_type": "code",
   "execution_count": 21,
   "id": "89aa33b2",
   "metadata": {},
   "outputs": [
    {
     "name": "stdout",
     "output_type": "stream",
     "text": [
      "Embeddings matrix shape: (4160, 300)\n"
     ]
    }
   ],
   "source": [
    "embedding_dim = 300\n",
    "embedding_matrix = np.zeros((len(word_to_index), embedding_dim))\n",
    "\n",
    "for word, idx in word_to_index.items():\n",
    "    embedding_vector = embeddings_index.get(word)\n",
    "    if embedding_vector is not None:\n",
    "        embedding_matrix[idx] = embedding_vector\n",
    "\n",
    "print(\"Embeddings matrix shape:\", embedding_matrix.shape)"
   ]
  },
  {
   "cell_type": "code",
   "execution_count": 22,
   "id": "02f2cf0b",
   "metadata": {},
   "outputs": [],
   "source": [
    "import os\n",
    "from pickle import dump\n",
    "\n",
    "# Tạo thư mục nếu chưa tồn tại\n",
    "os.makedirs(\"Processed Data\", exist_ok=True)\n",
    "\n",
    "# Lưu embedding matrix\n",
    "with open(\"Processed Data/embedding_matrix.pkl\", \"wb\") as f:\n",
    "    dump(embedding_matrix, f)\n",
    "\n",
    "# Lưu word mappings\n",
    "with open(\"Processed Data/word_to_index.pkl\", \"wb\") as f:\n",
    "    dump(word_to_index, f)\n",
    "\n",
    "with open(\"Processed Data/index_to_word.pkl\", \"wb\") as f:\n",
    "    dump(index_to_word, f)\n",
    "\n",
    "with open(\"Processed Data/encoded_captions.pkl\", \"wb\") as f:\n",
    "    dump(all_sequences, f)\n"
   ]
  }
 ],
 "metadata": {
  "kernelspec": {
   "display_name": "Python 3",
   "language": "python",
   "name": "python3"
  },
  "language_info": {
   "codemirror_mode": {
    "name": "ipython",
    "version": 3
   },
   "file_extension": ".py",
   "mimetype": "text/x-python",
   "name": "python",
   "nbconvert_exporter": "python",
   "pygments_lexer": "ipython3",
   "version": "3.11.9"
  }
 },
 "nbformat": 4,
 "nbformat_minor": 5
}
