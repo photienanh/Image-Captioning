{
 "cells": [
  {
   "cell_type": "code",
   "execution_count": null,
   "metadata": {},
   "outputs": [],
   "source": [
    "import torch\n",
    "import torch.nn as nn\n",
    "import torch.optim as optim\n",
    "from torch.utils.data import DataLoader\n",
    "from torchvision import transforms\n",
    "import pickle\n",
    "from prepare_data import CaptionDataset\n",
    "from tqdm import tqdm\n",
    "import os\n",
    "import sys\n",
    "sys.path.append(os.path.dirname(os.getcwd()))\n",
    "from src.model import Encoder, DecoderTransformer"
   ]
  },
  {
   "cell_type": "code",
   "execution_count": 3,
   "metadata": {},
   "outputs": [],
   "source": [
    "with open('../Processed Data/embedding_matrix.pkl', 'rb') as f:\n",
    "    embedding_matrix = pickle.load(f)\n",
    "with open('../Processed Data/word_to_index.pkl', 'rb') as f:\n",
    "    word_to_index = pickle.load(f)\n"
   ]
  },
  {
   "cell_type": "code",
   "execution_count": 3,
   "metadata": {},
   "outputs": [],
   "source": [
    "vocab_size = len(word_to_index)\n",
    "pad_idx = word_to_index[\"<PAD>\"]\n",
    "\n",
    "# Model Hyperparameters\n",
    "embed_dim = 300  # Should match the embedding matrix dimension\n",
    "nhead = 6\n",
    "num_decoder_layers = 4\n",
    "dim_feedforward = 1024\n",
    "dropout = 0.5\n",
    "\n",
    "# Training Hyperparameters\n",
    "batch_size = 32\n",
    "num_epochs = 15\n",
    "learning_rate = 1e-4"
   ]
  },
  {
   "cell_type": "code",
   "execution_count": null,
   "metadata": {},
   "outputs": [],
   "source": [
    "encoder = Encoder(embed_dim=embed_dim, dropout=dropout)\n",
    "decoder = DecoderTransformer(\n",
    "    vocab_size=vocab_size,\n",
    "    embedding_dim=embed_dim,\n",
    "    nhead=nhead,\n",
    "    num_decoder_layers=num_decoder_layers,\n",
    "    dim_feedforward=dim_feedforward,\n",
    "    embedding_matrix=embedding_matrix\n",
    ")\n",
    "\n",
    "device = torch.device('cuda' if torch.cuda.is_available() else 'cpu')\n",
    "encoder = encoder.to(device)\n",
    "decoder = decoder.to(device)\n",
    "\n",
    "print(f\"Using device: {device}\")"
   ]
  },
  {
   "cell_type": "code",
   "execution_count": null,
   "metadata": {},
   "outputs": [],
   "source": [
    "transform = transforms.Compose([\n",
    "    transforms.Resize((224, 224)),\n",
    "    transforms.ToTensor(),\n",
    "    transforms.Normalize(mean=[0.485, 0.456, 0.406], std=[0.229, 0.224, 0.225]),\n",
    "])\n",
    "\n",
    "dataset = CaptionDataset(\n",
    "    image_dir='../Flickr8k/Images',\n",
    "    captions_path='../Processed Data/encoded_captions.pkl',\n",
    "    transform=transform\n",
    ")\n",
    "# Note: Set num_workers to 0 if you are on Windows and encounter DataLoader errors\n",
    "dataloader = DataLoader(dataset, batch_size=batch_size, shuffle=True, num_workers=0)"
   ]
  },
  {
   "cell_type": "code",
   "execution_count": 6,
   "metadata": {},
   "outputs": [],
   "source": [
    "params = list(encoder.parameters()) + list(decoder.parameters())\n",
    "optimizer = optim.Adam(filter(lambda p: p.requires_grad, params), lr=learning_rate)\n",
    "criterion = nn.CrossEntropyLoss(ignore_index=pad_idx)"
   ]
  },
  {
   "cell_type": "code",
   "execution_count": null,
   "metadata": {},
   "outputs": [],
   "source": [
    "print(\"Starting training...\")\n",
    "for epoch in range(num_epochs):\n",
    "    encoder.train()\n",
    "    decoder.train()\n",
    "    total_loss = 0\n",
    "    \n",
    "    loop = tqdm(dataloader, leave=True)\n",
    "    for i, (images, captions) in enumerate(loop):\n",
    "        images = images.to(device)\n",
    "        captions = captions.to(device)\n",
    "        \n",
    "        caption_input = captions[:, :-1]\n",
    "        caption_target = captions[:, 1:]\n",
    "\n",
    "        features = encoder(images)\n",
    "        outputs = decoder(caption_input, features)\n",
    "\n",
    "        loss = criterion(\n",
    "            outputs.reshape(-1, vocab_size),\n",
    "            caption_target.reshape(-1)\n",
    "        )\n",
    "\n",
    "        optimizer.zero_grad()\n",
    "        loss.backward()\n",
    "        torch.nn.utils.clip_grad_norm_(params, max_norm=1.0)\n",
    "        optimizer.step()\n",
    "        \n",
    "        total_loss += loss.item()\n",
    "        \n",
    "        loop.set_description(f\"Epoch [{epoch+1}/{num_epochs}]\")\n",
    "        loop.set_postfix(loss=loss.item())\n",
    "\n",
    "    avg_loss = total_loss / len(dataloader)\n",
    "    print(f\"\\nEnd of Epoch {epoch+1}/{num_epochs}, Average Loss: {avg_loss:.4f}\")\n",
    "\n",
    "print(\"Training finished.\")"
   ]
  },
  {
   "cell_type": "code",
   "execution_count": null,
   "metadata": {},
   "outputs": [],
   "source": [
    "print(\"Saving model...\")\n",
    "os.makedirs(\"../Models\", exist_ok=True)\n",
    "torch.save({\n",
    "    'encoder_state_dict': encoder.state_dict(),\n",
    "    'decoder_state_dict': decoder.state_dict(),\n",
    "    'optimizer_state_dict': optimizer.state_dict(),\n",
    "    'embed_dim': embed_dim,\n",
    "    'nhead': nhead,\n",
    "    'num_decoder_layers': num_decoder_layers,\n",
    "    'dim_feedforward': dim_feedforward\n",
    "}, '../Models/caption_model.pth')\n",
    "\n",
    "print(\"✅ Model saved successfully.\")\n"
   ]
  }
 ],
 "metadata": {
  "kernelspec": {
   "display_name": "Python 3",
   "language": "python",
   "name": "python3"
  },
  "language_info": {
   "codemirror_mode": {
    "name": "ipython",
    "version": 3
   },
   "file_extension": ".py",
   "mimetype": "text/x-python",
   "name": "python",
   "nbconvert_exporter": "python",
   "pygments_lexer": "ipython3",
   "version": "3.11.9"
  }
 },
 "nbformat": 4,
 "nbformat_minor": 2
}
