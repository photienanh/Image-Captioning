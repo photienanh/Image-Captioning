{
 "cells": [
  {
   "cell_type": "code",
   "execution_count": null,
   "metadata": {},
   "outputs": [],
   "source": [
    "import torch\n",
    "import torch.nn as nn\n",
    "import torch.optim as optim\n",
    "from torch.utils.data import Dataset, DataLoader\n",
    "import pickle\n",
    "import numpy as np\n",
    "from model import Encoder, Decoder\n",
    "from prepare_data import CaptionDataset"
   ]
  },
  {
   "cell_type": "code",
   "execution_count": null,
   "metadata": {},
   "outputs": [],
   "source": [
    "with open('Processed Data/embedding_matrix.pkl', 'rb') as f:\n",
    "    embedding_matrix = pickle.load(f)\n",
    "with open('Processed Data/word_to_index.pkl', 'rb') as f:\n",
    "    word_to_index = pickle.load(f)"
   ]
  },
  {
   "cell_type": "code",
   "execution_count": null,
   "metadata": {},
   "outputs": [],
   "source": [
    "vocab_size = len(word_to_index)\n",
    "embedding_dim = embedding_matrix.shape[1]\n",
    "hidden_dim = 256\n",
    "pad_idx = word_to_index[\"<PAD>\"]"
   ]
  },
  {
   "cell_type": "code",
   "execution_count": null,
   "metadata": {},
   "outputs": [],
   "source": [
    "encoder = Encoder(encoded_image_size=hidden_dim)\n",
    "decoder = Decoder(\n",
    "    vocab_size=vocab_size,\n",
    "    embedding_dim=embedding_dim,\n",
    "    hidden_dim=hidden_dim,\n",
    "    embedding_matrix=embedding_matrix\n",
    ")"
   ]
  },
  {
   "cell_type": "code",
   "execution_count": null,
   "metadata": {},
   "outputs": [],
   "source": [
    "device = torch.device('cuda' if torch.cuda.is_available() else 'cpu')\n",
    "encoder = encoder.to(device)\n",
    "decoder = decoder.to(device)"
   ]
  },
  {
   "cell_type": "code",
   "execution_count": null,
   "metadata": {},
   "outputs": [],
   "source": [
    "dataset = CaptionDataset(\n",
    "    features_path='Processed Data/image_features_resnet50.pkl',\n",
    "    captions_path='Processed Data/encoded_captions.pkl'\n",
    ")\n",
    "dataloader = DataLoader(dataset, batch_size=32, shuffle=True)"
   ]
  },
  {
   "cell_type": "code",
   "execution_count": null,
   "metadata": {},
   "outputs": [],
   "source": [
    "params = list(encoder.linear.parameters()) + list(encoder.dropout.parameters()) + list(decoder.parameters())\n",
    "optimizer = optim.Adam(params, lr=1e-3)\n",
    "criterion = nn.CrossEntropyLoss(ignore_index=pad_idx)"
   ]
  },
  {
   "cell_type": "code",
   "execution_count": null,
   "metadata": {},
   "outputs": [],
   "source": [
    "num_epochs = 10\n",
    "for epoch in range(num_epochs):\n",
    "    encoder.train()\n",
    "    decoder.train()\n",
    "    total_loss = 0\n",
    "    for features, captions in dataloader:\n",
    "        features = features.to(device)  # (batch, 2048)\n",
    "        captions = captions.to(device)  # (batch, seq_len)\n",
    "        caption_input = captions[:, :-1]\n",
    "        caption_target = captions[:, 1:]\n",
    "\n",
    "        # Chỉ dùng linear+dropout của encoder vì feature đã là 2048\n",
    "        features_encoded = encoder.linear(encoder.dropout(features))  # (batch, 256)\n",
    "        outputs = decoder(caption_input, features_encoded)           # (batch, vocab_size)\n",
    "\n",
    "        loss = criterion(\n",
    "            outputs.view(-1, vocab_size),\n",
    "            caption_target.reshape(-1)\n",
    "        )\n",
    "\n",
    "        optimizer.zero_grad()\n",
    "        loss.backward()\n",
    "        optimizer.step()\n",
    "        total_loss += loss.item()\n",
    "\n",
    "    print(f\"Epoch {epoch+1}/{num_epochs}, Loss: {total_loss/len(dataloader):.4f}\")\n",
    "\n",
    "# 7. Lưu model\n",
    "torch.save({\n",
    "    'encoder_state_dict': encoder.state_dict(),\n",
    "    'decoder_state_dict': decoder.state_dict(),\n",
    "    'optimizer_state_dict': optimizer.state_dict(),\n",
    "}, 'Models/caption_model_resnet50.pth')"
   ]
  }
 ],
 "metadata": {
  "language_info": {
   "name": "python"
  }
 },
 "nbformat": 4,
 "nbformat_minor": 2
}
